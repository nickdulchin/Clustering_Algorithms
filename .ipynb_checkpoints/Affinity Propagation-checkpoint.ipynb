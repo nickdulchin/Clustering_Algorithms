{
 "cells": [
  {
   "cell_type": "code",
   "execution_count": 19,
   "metadata": {},
   "outputs": [],
   "source": [
    "import numpy as np\n",
    "import pandas as pd\n",
    "from matplotlib import pyplot as plt\n",
    "import seaborn as sns\n",
    "sns.set()"
   ]
  },
  {
   "cell_type": "markdown",
   "metadata": {},
   "source": [
    "## Build my own implementation and test against toy example with known solution"
   ]
  },
  {
   "cell_type": "code",
   "execution_count": 20,
   "metadata": {},
   "outputs": [],
   "source": [
    "#Euclidean distance\n",
    "def distance(one,two):\n",
    "    return -(np.sum((one-two)**2))"
   ]
  },
  {
   "cell_type": "code",
   "execution_count": 21,
   "metadata": {},
   "outputs": [],
   "source": [
    "#updates the responsibility matrix\n",
    "def fill_r(responsibility,availability,similarity):\n",
    "    for i in range(responsibility.shape[0]):\n",
    "        for j in range(responsibility.shape[1]):\n",
    "            responsibility[i,j] = similarity[i,j] - np.max(availability[i][list(filter(lambda a : a != j,\n",
    "            [*range(responsibility.shape[1])]))] + similarity[i][list(filter(lambda a : a != j,\n",
    "            [*range(responsibility.shape[1])]))]) \n",
    "    return responsibility"
   ]
  },
  {
   "cell_type": "code",
   "execution_count": 22,
   "metadata": {},
   "outputs": [],
   "source": [
    "#updates the availability matrix\n",
    "def fill_a(responsibility,availability):\n",
    "    #diagonal\n",
    "    for j in range(responsibility.shape[1]):\n",
    "        availability[j,j] = 0\n",
    "        for i in list(filter(lambda a : a != j,[*range(responsibility.shape[1])])):\n",
    "            availability[j,j] += np.max([0, responsibility[i,j]])\n",
    "    #off-diagonal\n",
    "    for j in range(responsibility.shape[1]):\n",
    "        for i in list(filter(lambda a : a != j,[*range(responsibility.shape[1])])):\n",
    "            availability[i,j] = np.min([0, responsibility[j,j] + np.sum([np.max([0,\n",
    "            responsibility[i_temp][j]]) for i_temp in list(filter(lambda a : a != i,[*range(responsibility.shape[1])]))])])\n",
    "    return availability"
   ]
  },
  {
   "cell_type": "code",
   "execution_count": 23,
   "metadata": {},
   "outputs": [],
   "source": [
    "#\n",
    "def aff_prop(preference_dict,preference=-10,max_iter=1000,patience=10,damping=0.5):\n",
    "    preferences = preference_dict\n",
    "    similarity = np.zeros((preferences.shape[0],preferences.shape[0]))\n",
    "    for i in range(preferences.shape[0]): \n",
    "        for j in range(preferences.shape[0]):\n",
    "            similarity[i][j] = distance(preferences[i],preferences[j])\n",
    "    np.fill_diagonal(similarity,np.min([preference,np.min(similarity)]))\n",
    "    responsibility = np.zeros((preferences.shape[0],preferences.shape[0]))\n",
    "    availability = np.zeros((preferences.shape[0],preferences.shape[0]))\n",
    "    criterion = np.zeros((preferences.shape[0],preferences.shape[0]))\n",
    "    clusters = []\n",
    "    clusters_old = ['old']\n",
    "    eq_count = 0\n",
    "    for n in range(max_iter): \n",
    "        if clusters == clusters_old: \n",
    "            eq_count += 1\n",
    "            clusters_old = clusters.copy()\n",
    "        if eq_count >= patience:\n",
    "             break\n",
    "        if n==0:\n",
    "            fill_r(responsibility,availability,similarity)\n",
    "            fill_a(responsibility,availability)\n",
    "        else:\n",
    "            responsibility_old = responsibility.copy()\n",
    "            availability_old = availability.copy()\n",
    "            fill_r(responsibility,availability,similarity)\n",
    "            fill_a(responsibility,availability)\n",
    "            responsibility = damping*responsibility_old + (1-damping)*responsibility\n",
    "            availability = damping*availability_old + (1-damping)*availability\n",
    "        criterion = responsibility + availability\n",
    "        clusters = [np.argmax(criterion[i]) for i in range(criterion.shape[0])]\n",
    "    return clusters"
   ]
  },
  {
   "cell_type": "code",
   "execution_count": 24,
   "metadata": {},
   "outputs": [],
   "source": [
    "#This is the example from the Thavikulwat paper. The final output should be [0, 0, 0, 3, 3]\n",
    "prefs = {'Alice': [3,4,3,2,1],\n",
    "         'Bob': [4,3,5,1,1],\n",
    "         'Cary': [3,5,3,3,3],\n",
    "         'Doug': [2,1,3,3,2],\n",
    "         'Edna': [1,1,3,2,3]}\n",
    "X = np.array(list(prefs.values()))\n",
    "toy_labels = aff_prop(X,preference=-10, max_iter=50, patience=5,damping=.5)"
   ]
  },
  {
   "cell_type": "code",
   "execution_count": 25,
   "metadata": {},
   "outputs": [
    {
     "data": {
      "text/plain": [
       "[0, 0, 0, 3, 3]"
      ]
     },
     "execution_count": 25,
     "metadata": {},
     "output_type": "execute_result"
    }
   ],
   "source": [
    "toy_labels"
   ]
  },
  {
   "cell_type": "code",
   "execution_count": 16,
   "metadata": {},
   "outputs": [
    {
     "data": {
      "text/plain": [
       "<matplotlib.collections.PathCollection at 0x7fa020c5c210>"
      ]
     },
     "execution_count": 16,
     "metadata": {},
     "output_type": "execute_result"
    },
    {
     "data": {
      "image/png": "[encoded data removed]",
      "text/plain": [
       "<Figure size 432x288 with 1 Axes>"
      ]
     },
     "metadata": {},
     "output_type": "display_data"
    }
   ],
   "source": [
    "#plot first two dimensions (and color by cluster)\n",
    "plt.scatter(X[:,0], X[:,1], c=toy_labels, cmap='rainbow', alpha=0.7, edgecolors='b')"
   ]
  }
 ],
 "metadata": {
  "kernelspec": {
   "display_name": "Python 3",
   "language": "python",
   "name": "python3"
  },
  "language_info": {
   "codemirror_mode": {
    "name": "ipython",
    "version": 3
   },
   "file_extension": ".py",
   "mimetype": "text/x-python",
   "name": "python",
   "nbconvert_exporter": "python",
   "pygments_lexer": "ipython3",
   "version": "3.7.6"
  }
 },
 "nbformat": 4,
 "nbformat_minor": 4
}
